{
 "cells": [
  {
   "cell_type": "code",
   "execution_count": 1,
   "metadata": {},
   "outputs": [
    {
     "name": "stdout",
     "output_type": "stream",
     "text": [
      "[(79.0820556, 21.1498134), (73.8544541, 18.521428), (75.3390241, 19.877263), (72.82810491917377, 18.9733536), (77.1716954, 28.6273928), (74.0855134, 15.3004543)]\n"
     ]
    }
   ],
   "source": [
    "\"\"\"A telecommunications organization has offices spanned across multiple\n",
    "locations around the globe. It has to use leased phone lines for connecting all these offices with\n",
    "each other. The organization, wants to use minimum cost for connecting all its offices. This\n",
    "requires that all the offices should be connected using a minimum number of leased lines so as to\n",
    "reduce the effective cost.\n",
    "\n",
    "A. Consider the following for deciding connections in same state in India:\n",
    "i. Find the latitude and longitude of cities in same state. Consider 4 to 6 cities.\n",
    "ii. Calculate the cost of connecting each pair of offices by computing the distance\n",
    "between different pair of different cities (as considered in part A) and construct a\n",
    "fully connected graph.\n",
    "iii. Compute a minimum spanning tree using either Prims or Kruskals Method to find the\n",
    "cost of connecting offices in different cities.\n",
    "B. Repeat the above for cities in different states.\n",
    "\"\"\"\n",
    "\n",
    "\n",
    "# Part 1: Getting the locations of the cities\n",
    "selected_cities = ['nagpur','pune','aurangabad','mumbai','delhi','goa']\n",
    "longitude_and_latitude = []\n",
    "\n",
    "from geopy.geocoders import Nominatim\n",
    "\n",
    "geolocator = Nominatim(user_agent=\"prims_algo_excercise\")\n",
    "\n",
    "for city in selected_cities:\n",
    "    location = geolocator.geocode(city)\n",
    "    longitude_and_latitude.append((location.longitude,location.latitude))\n",
    "\n",
    "print(longitude_and_latitude)\n",
    "\n"
   ]
  },
  {
   "cell_type": "code",
   "execution_count": 2,
   "metadata": {},
   "outputs": [
    {
     "name": "stdout",
     "output_type": "stream",
     "text": [
      "Distance between nagpur and nagpur is 0.00 km\n",
      "Distance between nagpur and pune is 587.44 km\n",
      "Distance between nagpur and aurangabad is 419.02 km\n",
      "Distance between nagpur and mumbai is 700.47 km\n",
      "Distance between nagpur and delhi is 273.46 km\n",
      "Distance between nagpur and goa is 577.31 km\n",
      "Distance between pune and nagpur is 587.44 km\n",
      "Distance between pune and pune is 0.00 km\n",
      "Distance between pune and aurangabad is 170.50 km\n",
      "Distance between pune and mumbai is 115.45 km\n",
      "Distance between pune and delhi is 464.32 km\n",
      "Distance between pune and goa is 102.60 km\n",
      "Distance between aurangabad and nagpur is 419.02 km\n",
      "Distance between aurangabad and pune is 170.50 km\n",
      "Distance between aurangabad and aurangabad is 0.00 km\n",
      "Distance between aurangabad and mumbai is 281.60 km\n",
      "Distance between aurangabad and delhi is 308.90 km\n",
      "Distance between aurangabad and goa is 194.15 km\n",
      "Distance between mumbai and nagpur is 700.47 km\n",
      "Distance between mumbai and pune is 115.45 km\n",
      "Distance between mumbai and aurangabad is 281.60 km\n",
      "Distance between mumbai and mumbai is 0.00 km\n",
      "Distance between mumbai and delhi is 557.80 km\n",
      "Distance between mumbai and goa is 182.50 km\n",
      "Distance between delhi and nagpur is 273.46 km\n",
      "Distance between delhi and pune is 464.32 km\n",
      "Distance between delhi and aurangabad is 308.90 km\n",
      "Distance between delhi and mumbai is 557.80 km\n",
      "Distance between delhi and delhi is 0.00 km\n",
      "Distance between delhi and goa is 503.00 km\n",
      "Distance between goa and nagpur is 577.31 km\n",
      "Distance between goa and pune is 102.60 km\n",
      "Distance between goa and aurangabad is 194.15 km\n",
      "Distance between goa and mumbai is 182.50 km\n",
      "Distance between goa and delhi is 503.00 km\n",
      "Distance between goa and goa is 0.00 km\n",
      "0.00 | 587.44 | 419.02 | 700.47 | 273.46 | 577.31 | \n",
      "\n",
      "587.44 | 0.00 | 170.50 | 115.45 | 464.32 | 102.60 | \n",
      "\n",
      "419.02 | 170.50 | 0.00 | 281.60 | 308.90 | 194.15 | \n",
      "\n",
      "700.47 | 115.45 | 281.60 | 0.00 | 557.80 | 182.50 | \n",
      "\n",
      "273.46 | 464.32 | 308.90 | 557.80 | 0.00 | 503.00 | \n",
      "\n",
      "577.31 | 102.60 | 194.15 | 182.50 | 503.00 | 0.00 | \n",
      "\n"
     ]
    }
   ],
   "source": [
    "# Part 2: Calculating the distance between the cities\n",
    "from geopy.distance import geodesic\n",
    "\n",
    "distance_matrix = []\n",
    "\n",
    "for i in range(len(longitude_and_latitude)):\n",
    "    distance_matrix.append([])\n",
    "    for j in range(len(longitude_and_latitude)):\n",
    "        print(f'Distance between {selected_cities[i]} and {selected_cities[j]} is {geodesic(longitude_and_latitude[i],longitude_and_latitude[j]).km:.2f} km')\n",
    "        distance_matrix[i].append(geodesic(longitude_and_latitude[i],longitude_and_latitude[j]).km)\n",
    "\n",
    "for i in range(len(distance_matrix)):\n",
    "    # print(f'{distance_matrix[i]}','\\n')\n",
    "    for j in range(len(distance_matrix[i])):\n",
    "        print(f'{distance_matrix[i][j]:.2f} |',end=' ')\n",
    "    print('\\n')"
   ]
  },
  {
   "cell_type": "code",
   "execution_count": 3,
   "metadata": {},
   "outputs": [],
   "source": [
    "# Part3: Entering the graph in the csv file\n",
    "import csv\n",
    "\n",
    "with open('/workspaces/DSA/prims-algorithm-on-map/data/within_state_graph4.csv','w') as file:\n",
    "    writer = csv.writer(file)\n",
    "    writer.writerow([''] + selected_cities)\n",
    "    for i in range(len(distance_matrix)):\n",
    "        writer.writerow([selected_cities[i]] + distance_matrix[i])"
   ]
  },
  {
   "cell_type": "code",
   "execution_count": null,
   "metadata": {},
   "outputs": [],
   "source": []
  }
 ],
 "metadata": {
  "kernelspec": {
   "display_name": "Python 3",
   "language": "python",
   "name": "python3"
  },
  "language_info": {
   "codemirror_mode": {
    "name": "ipython",
    "version": 3
   },
   "file_extension": ".py",
   "mimetype": "text/x-python",
   "name": "python",
   "nbconvert_exporter": "python",
   "pygments_lexer": "ipython3",
   "version": "3.10.8"
  },
  "orig_nbformat": 4
 },
 "nbformat": 4,
 "nbformat_minor": 2
}
